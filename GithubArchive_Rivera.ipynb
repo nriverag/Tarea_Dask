{
 "cells": [
  {
   "cell_type": "markdown",
   "metadata": {},
   "source": [
    "# Github Archive"
   ]
  },
  {
   "cell_type": "markdown",
   "metadata": {},
   "source": [
    "## Librerias"
   ]
  },
  {
   "cell_type": "code",
   "execution_count": 1,
   "metadata": {
    "id": "a822486d"
   },
   "outputs": [],
   "source": [
    "import pandas as pd"
   ]
  },
  {
   "cell_type": "code",
   "execution_count": 2,
   "metadata": {
    "id": "c5e3bfd6"
   },
   "outputs": [],
   "source": [
    "import dask.bag as db"
   ]
  },
  {
   "cell_type": "markdown",
   "metadata": {},
   "source": [
    "## Importar datos"
   ]
  },
  {
   "cell_type": "code",
   "execution_count": 4,
   "metadata": {
    "id": "ae74dc60"
   },
   "outputs": [],
   "source": [
    "import json\n",
    "\n",
    "b = db.read_text('https://data.gharchive.org/2015-01-01-15.json.gz').map(json.loads)"
   ]
  },
  {
   "cell_type": "code",
   "execution_count": 39,
   "metadata": {
    "id": "4d2530bd",
    "outputId": "05716bb7-c59c-4575-cfe5-a7ed814866a3"
   },
   "outputs": [
    {
     "data": {
      "text/plain": [
       "({'id': '2489651045',\n",
       "  'type': 'CreateEvent',\n",
       "  'actor': {'id': 665991,\n",
       "   'login': 'petroav',\n",
       "   'gravatar_id': '',\n",
       "   'url': 'https://api.github.com/users/petroav',\n",
       "   'avatar_url': 'https://avatars.githubusercontent.com/u/665991?'},\n",
       "  'repo': {'id': 28688495,\n",
       "   'name': 'petroav/6.828',\n",
       "   'url': 'https://api.github.com/repos/petroav/6.828'},\n",
       "  'payload': {'ref': 'master',\n",
       "   'ref_type': 'branch',\n",
       "   'master_branch': 'master',\n",
       "   'description': \"Solution to homework and assignments from MIT's 6.828 (Operating Systems Engineering). Done in my spare time.\",\n",
       "   'pusher_type': 'user'},\n",
       "  'public': True,\n",
       "  'created_at': '2015-01-01T15:00:00Z'},\n",
       " {'id': '2489651051',\n",
       "  'type': 'PushEvent',\n",
       "  'actor': {'id': 3854017,\n",
       "   'login': 'rspt',\n",
       "   'gravatar_id': '',\n",
       "   'url': 'https://api.github.com/users/rspt',\n",
       "   'avatar_url': 'https://avatars.githubusercontent.com/u/3854017?'},\n",
       "  'repo': {'id': 28671719,\n",
       "   'name': 'rspt/rspt-theme',\n",
       "   'url': 'https://api.github.com/repos/rspt/rspt-theme'},\n",
       "  'payload': {'push_id': 536863970,\n",
       "   'size': 1,\n",
       "   'distinct_size': 1,\n",
       "   'ref': 'refs/heads/master',\n",
       "   'head': '6b089eb4a43f728f0a594388092f480f2ecacfcd',\n",
       "   'before': '437c03652caa0bc4a7554b18d5c0a394c2f3d326',\n",
       "   'commits': [{'sha': '6b089eb4a43f728f0a594388092f480f2ecacfcd',\n",
       "     'author': {'email': '5c682c2d1ec4073e277f9ba9f4bdf07e5794dabe@rspt.ch',\n",
       "      'name': 'rspt'},\n",
       "     'message': 'Fix main header height on mobile',\n",
       "     'distinct': True,\n",
       "     'url': 'https://api.github.com/repos/rspt/rspt-theme/commits/6b089eb4a43f728f0a594388092f480f2ecacfcd'}]},\n",
       "  'public': True,\n",
       "  'created_at': '2015-01-01T15:00:01Z'},\n",
       " {'id': '2489651053',\n",
       "  'type': 'PushEvent',\n",
       "  'actor': {'id': 6339799,\n",
       "   'login': 'izuzero',\n",
       "   'gravatar_id': '',\n",
       "   'url': 'https://api.github.com/users/izuzero',\n",
       "   'avatar_url': 'https://avatars.githubusercontent.com/u/6339799?'},\n",
       "  'repo': {'id': 28270952,\n",
       "   'name': 'izuzero/xe-module-ajaxboard',\n",
       "   'url': 'https://api.github.com/repos/izuzero/xe-module-ajaxboard'},\n",
       "  'payload': {'push_id': 536863972,\n",
       "   'size': 1,\n",
       "   'distinct_size': 1,\n",
       "   'ref': 'refs/heads/develop',\n",
       "   'head': 'ec819b9df4fe612bb35bf562f96810bf991f9975',\n",
       "   'before': '590433109f221a96cf19ea7a7d9a43ca333e3b3e',\n",
       "   'commits': [{'sha': 'ec819b9df4fe612bb35bf562f96810bf991f9975',\n",
       "     'author': {'email': 'df05f55543db3c62cf64f7438018ec37f3605d3c@gmail.com',\n",
       "      'name': 'Eunsoo Lee'},\n",
       "     'message': '#20 게시글 및 댓글 삭제 시 새로고침이 되는 문제 해결\\n\\n원래 의도는 새로고침이 되지 않고 확인창만으로 해결되어야 함.\\n기본 게시판 대응 플러그인에서 발생한 이슈.',\n",
       "     'distinct': True,\n",
       "     'url': 'https://api.github.com/repos/izuzero/xe-module-ajaxboard/commits/ec819b9df4fe612bb35bf562f96810bf991f9975'}]},\n",
       "  'public': True,\n",
       "  'created_at': '2015-01-01T15:00:01Z'},\n",
       " {'id': '2489651057',\n",
       "  'type': 'WatchEvent',\n",
       "  'actor': {'id': 6894991,\n",
       "   'login': 'SametSisartenep',\n",
       "   'gravatar_id': '',\n",
       "   'url': 'https://api.github.com/users/SametSisartenep',\n",
       "   'avatar_url': 'https://avatars.githubusercontent.com/u/6894991?'},\n",
       "  'repo': {'id': 2871998,\n",
       "   'name': 'visionmedia/debug',\n",
       "   'url': 'https://api.github.com/repos/visionmedia/debug'},\n",
       "  'payload': {'action': 'started'},\n",
       "  'public': True,\n",
       "  'created_at': '2015-01-01T15:00:03Z',\n",
       "  'org': {'id': 9285252,\n",
       "   'login': 'visionmedia',\n",
       "   'gravatar_id': '',\n",
       "   'url': 'https://api.github.com/orgs/visionmedia',\n",
       "   'avatar_url': 'https://avatars.githubusercontent.com/u/9285252?'}},\n",
       " {'id': '2489651062',\n",
       "  'type': 'PushEvent',\n",
       "  'actor': {'id': 485033,\n",
       "   'login': 'winterbe',\n",
       "   'gravatar_id': '',\n",
       "   'url': 'https://api.github.com/users/winterbe',\n",
       "   'avatar_url': 'https://avatars.githubusercontent.com/u/485033?'},\n",
       "  'repo': {'id': 28593843,\n",
       "   'name': 'winterbe/streamjs',\n",
       "   'url': 'https://api.github.com/repos/winterbe/streamjs'},\n",
       "  'payload': {'push_id': 536863975,\n",
       "   'size': 1,\n",
       "   'distinct_size': 1,\n",
       "   'ref': 'refs/heads/master',\n",
       "   'head': '15b303203be31bd295bc831075da8f74b99b3981',\n",
       "   'before': '0fef99f604154ccfe1d2fcd0aadeffb5c58e43ff',\n",
       "   'commits': [{'sha': '15b303203be31bd295bc831075da8f74b99b3981',\n",
       "     'author': {'email': '52a47bffd52d9cea1ee1362f2bd0c5f87fac9262@googlemail.com',\n",
       "      'name': 'Benjamin Winterberg'},\n",
       "     'message': 'Add comparator support for min, max operations',\n",
       "     'distinct': True,\n",
       "     'url': 'https://api.github.com/repos/winterbe/streamjs/commits/15b303203be31bd295bc831075da8f74b99b3981'}]},\n",
       "  'public': True,\n",
       "  'created_at': '2015-01-01T15:00:03Z'})"
      ]
     },
     "execution_count": 39,
     "metadata": {},
     "output_type": "execute_result"
    }
   ],
   "source": [
    "b.take(5)"
   ]
  },
  {
   "cell_type": "markdown",
   "metadata": {},
   "source": [
    "## Cálculos"
   ]
  },
  {
   "cell_type": "code",
   "execution_count": 7,
   "metadata": {},
   "outputs": [
    {
     "data": {
      "text/plain": [
       "11351"
      ]
     },
     "execution_count": 7,
     "metadata": {},
     "output_type": "execute_result"
    }
   ],
   "source": [
    "b.count().compute()"
   ]
  },
  {
   "cell_type": "code",
   "execution_count": 40,
   "metadata": {
    "id": "edbe0895",
    "outputId": "fa3dd745-fad1-4167-824b-16f264220cfc"
   },
   "outputs": [
    {
     "data": {
      "text/plain": [
       "({'id': 28593843,\n",
       "  'name': 'winterbe/streamjs',\n",
       "  'url': 'https://api.github.com/repos/winterbe/streamjs'},)"
      ]
     },
     "execution_count": 40,
     "metadata": {},
     "output_type": "execute_result"
    }
   ],
   "source": [
    "(b.filter(lambda x: x['id'] == '2489651062').pluck('repo').take(1))"
   ]
  },
  {
   "cell_type": "code",
   "execution_count": 68,
   "metadata": {},
   "outputs": [],
   "source": [
    " def max(self, split_every=None):\n",
    "        \"\"\"Maximum element\"\"\"\n",
    "        return self.reduction(max, max, split_every=split_every)"
   ]
  },
  {
   "cell_type": "code",
   "execution_count": 99,
   "metadata": {
    "id": "68ee2932",
    "outputId": "21c4a260-2eb2-4938-ff94-56882d83e2bb"
   },
   "outputs": [
    {
     "data": {
      "text/plain": [
       "('2489651045', '2489651051')"
      ]
     },
     "execution_count": 99,
     "metadata": {},
     "output_type": "execute_result"
    }
   ],
   "source": [
    "b.pluck(\"id\").take(2)\n"
   ]
  },
  {
   "cell_type": "code",
   "execution_count": 104,
   "metadata": {
    "id": "2483fe5a"
   },
   "outputs": [
    {
     "data": {
      "text/plain": [
       "({'push_id': 536863975,\n",
       "  'size': 1,\n",
       "  'distinct_size': 1,\n",
       "  'ref': 'refs/heads/master',\n",
       "  'head': '15b303203be31bd295bc831075da8f74b99b3981',\n",
       "  'before': '0fef99f604154ccfe1d2fcd0aadeffb5c58e43ff',\n",
       "  'commits': [{'sha': '15b303203be31bd295bc831075da8f74b99b3981',\n",
       "    'author': {'email': '52a47bffd52d9cea1ee1362f2bd0c5f87fac9262@googlemail.com',\n",
       "     'name': 'Benjamin Winterberg'},\n",
       "    'message': 'Add comparator support for min, max operations',\n",
       "    'distinct': True,\n",
       "    'url': 'https://api.github.com/repos/winterbe/streamjs/commits/15b303203be31bd295bc831075da8f74b99b3981'}]},)"
      ]
     },
     "execution_count": 104,
     "metadata": {},
     "output_type": "execute_result"
    }
   ],
   "source": [
    "(b.filter(lambda x: x['id'] == '2489651062').pluck('payload').take(1))"
   ]
  },
  {
   "cell_type": "code",
   "execution_count": 59,
   "metadata": {},
   "outputs": [
    {
     "data": {
      "text/plain": [
       "({'id': '2489651051',\n",
       "  'type': 'PushEvent',\n",
       "  'actor': {'id': 3854017,\n",
       "   'login': 'rspt',\n",
       "   'gravatar_id': '',\n",
       "   'url': 'https://api.github.com/users/rspt',\n",
       "   'avatar_url': 'https://avatars.githubusercontent.com/u/3854017?'},\n",
       "  'repo': {'id': 28671719,\n",
       "   'name': 'rspt/rspt-theme',\n",
       "   'url': 'https://api.github.com/repos/rspt/rspt-theme'},\n",
       "  'payload': {'push_id': 536863970,\n",
       "   'size': 1,\n",
       "   'distinct_size': 1,\n",
       "   'ref': 'refs/heads/master',\n",
       "   'head': '6b089eb4a43f728f0a594388092f480f2ecacfcd',\n",
       "   'before': '437c03652caa0bc4a7554b18d5c0a394c2f3d326',\n",
       "   'commits': [{'sha': '6b089eb4a43f728f0a594388092f480f2ecacfcd',\n",
       "     'author': {'email': '5c682c2d1ec4073e277f9ba9f4bdf07e5794dabe@rspt.ch',\n",
       "      'name': 'rspt'},\n",
       "     'message': 'Fix main header height on mobile',\n",
       "     'distinct': True,\n",
       "     'url': 'https://api.github.com/repos/rspt/rspt-theme/commits/6b089eb4a43f728f0a594388092f480f2ecacfcd'}]},\n",
       "  'public': True,\n",
       "  'created_at': '2015-01-01T15:00:01Z'},)"
      ]
     },
     "execution_count": 59,
     "metadata": {},
     "output_type": "execute_result"
    }
   ],
   "source": [
    "b.filter(lambda x: x['type']=='PushEvent').take(1)\n"
   ]
  },
  {
   "cell_type": "code",
   "execution_count": 105,
   "metadata": {},
   "outputs": [
    {
     "data": {
      "text/plain": [
       "({'ref': 'master',\n",
       "  'ref_type': 'branch',\n",
       "  'master_branch': 'master',\n",
       "  'description': \"Solution to homework and assignments from MIT's 6.828 (Operating Systems Engineering). Done in my spare time.\",\n",
       "  'pusher_type': 'user'},\n",
       " {'push_id': 536863970,\n",
       "  'size': 1,\n",
       "  'distinct_size': 1,\n",
       "  'ref': 'refs/heads/master',\n",
       "  'head': '6b089eb4a43f728f0a594388092f480f2ecacfcd',\n",
       "  'before': '437c03652caa0bc4a7554b18d5c0a394c2f3d326',\n",
       "  'commits': [{'sha': '6b089eb4a43f728f0a594388092f480f2ecacfcd',\n",
       "    'author': {'email': '5c682c2d1ec4073e277f9ba9f4bdf07e5794dabe@rspt.ch',\n",
       "     'name': 'rspt'},\n",
       "    'message': 'Fix main header height on mobile',\n",
       "    'distinct': True,\n",
       "    'url': 'https://api.github.com/repos/rspt/rspt-theme/commits/6b089eb4a43f728f0a594388092f480f2ecacfcd'}]})"
      ]
     },
     "execution_count": 105,
     "metadata": {},
     "output_type": "execute_result"
    }
   ],
   "source": [
    "b.pluck(\"payload\").take(2)"
   ]
  },
  {
   "cell_type": "code",
   "execution_count": 101,
   "metadata": {},
   "outputs": [
    {
     "data": {
      "text/plain": [
       "('master',)"
      ]
     },
     "execution_count": 101,
     "metadata": {},
     "output_type": "execute_result"
    }
   ],
   "source": [
    "b.pluck(\"payload\").pluck(\"ref\").take(1)"
   ]
  },
  {
   "cell_type": "code",
   "execution_count": 225,
   "metadata": {},
   "outputs": [],
   "source": [
    "import numpy as np"
   ]
  },
  {
   "cell_type": "code",
   "execution_count": 409,
   "metadata": {},
   "outputs": [],
   "source": [
    "c = b.pluck(\"payload\").filter(lambda x: (sum(np.array(list(x.keys()))=='commits')>=1))"
   ]
  },
  {
   "cell_type": "code",
   "execution_count": 414,
   "metadata": {},
   "outputs": [],
   "source": [
    "\n",
    "d=c.filter(lambda x: x['size']>=2).take(200)"
   ]
  },
  {
   "cell_type": "code",
   "execution_count": 429,
   "metadata": {},
   "outputs": [
    {
     "name": "stdout",
     "output_type": "stream",
     "text": [
      "283\n"
     ]
    }
   ],
   "source": [
    "e = []\n",
    "for i in range(200):\n",
    "    e.append(d[i]['size'])\n",
    "print(np.max(np.array(e)))"
   ]
  },
  {
   "cell_type": "code",
   "execution_count": 430,
   "metadata": {},
   "outputs": [
    {
     "data": {
      "text/plain": [
       "({'push_id': 536864363,\n",
       "  'size': 283,\n",
       "  'distinct_size': 283,\n",
       "  'ref': 'refs/heads/master',\n",
       "  'head': '224ea579d2db60f14b433f863996b1007585c028',\n",
       "  'before': '362daaa3078821e84e1c4c2eacaebdb0ae9d1f53',\n",
       "  'commits': [{'sha': 'fdb3c0e68d36d20d1b75163755d568d42def5ac1',\n",
       "    'author': {'email': 'f655be99d40b355fe9a8ebbf7f9e2442b0ee3e88@antone-3.desktop.amazon.com',\n",
       "     'name': 'Anton Eicher'},\n",
       "    'message': 'Added check for .git directory in current, before wasting time querying git. This saves seconds on my pc.',\n",
       "    'distinct': True,\n",
       "    'url': 'https://api.github.com/repos/Tonvin/oh-my-zsh/commits/fdb3c0e68d36d20d1b75163755d568d42def5ac1'},\n",
       "   {'sha': '9674a96b5bc296a767c2560757626bf2bc3a9ad3',\n",
       "    'author': {'email': '86a8c2da8527a1c6978bdca6d7986fe14ae147fe@openminds.be',\n",
       "     'name': 'Frank Louwers'},\n",
       "    'message': '[pj-plugin] delete ugly ls -l | awk print $9 thing to use something not depending on date format + add support for projects with spaces in them',\n",
       "    'distinct': True,\n",
       "    'url': 'https://api.github.com/repos/Tonvin/oh-my-zsh/commits/9674a96b5bc296a767c2560757626bf2bc3a9ad3'},\n",
       "   {'sha': 'df67f2ee30dbad61117e1886b0a4de326cb6daf7',\n",
       "    'author': {'email': '86a8c2da8527a1c6978bdca6d7986fe14ae147fe@openminds.be',\n",
       "     'name': 'Frank Louwers'},\n",
       "    'message': '[pj-plugin] avoid using basename. migth be (a lot?) faster',\n",
       "    'distinct': True,\n",
       "    'url': 'https://api.github.com/repos/Tonvin/oh-my-zsh/commits/df67f2ee30dbad61117e1886b0a4de326cb6daf7'},\n",
       "   {'sha': 'a7c88c988a4be02b8883c06e57c6eb290c8fcb21',\n",
       "    'author': {'email': '74cb737ea0c60952e9dfa2f3ae3c9bdaf2fbf5b8@fakedomain.com',\n",
       "     'name': 'Fräntz Miccoli'},\n",
       "    'message': \"Removed comments and other elements that might appear in the phing -l output. The current version doesn't work at all on my environment (OSX 10.7)\",\n",
       "    'distinct': True,\n",
       "    'url': 'https://api.github.com/repos/Tonvin/oh-my-zsh/commits/a7c88c988a4be02b8883c06e57c6eb290c8fcb21'},\n",
       "   {'sha': '244533320062afd470e4aa6aab92e1532cf2fec3',\n",
       "    'author': {'email': '608e01334f5575f10813efa40ce0102f2dc0a75e@rimenes.net',\n",
       "     'name': 'Rimenes Ribeiro'},\n",
       "    'message': 'Add reload and status alises to postgres',\n",
       "    'distinct': True,\n",
       "    'url': 'https://api.github.com/repos/Tonvin/oh-my-zsh/commits/244533320062afd470e4aa6aab92e1532cf2fec3'},\n",
       "   {'sha': 'd608fbfc7fcabf9994f8064e67670e69130d2ee1',\n",
       "    'author': {'email': 'bc3107fce01cd702eb1f5e5569cda6c9eda291d3@antevorte.org',\n",
       "     'name': 'Riyad Preukschas'},\n",
       "    'message': 'Make the virtualenv plugin themable',\n",
       "    'distinct': True,\n",
       "    'url': 'https://api.github.com/repos/Tonvin/oh-my-zsh/commits/d608fbfc7fcabf9994f8064e67670e69130d2ee1'},\n",
       "   {'sha': '9b811fb625c03c30a766191cdf65a1c7c1fd96b2',\n",
       "    'author': {'email': '53787c78f7abb21ac0a50b247d81737fa8600e52@coxinc.com',\n",
       "     'name': 'Michael Orr'},\n",
       "    'message': 'accidentally blew away a git config setting used for another purpose, renaming in order to distinguish',\n",
       "    'distinct': True,\n",
       "    'url': 'https://api.github.com/repos/Tonvin/oh-my-zsh/commits/9b811fb625c03c30a766191cdf65a1c7c1fd96b2'},\n",
       "   {'sha': '3976b93f3931a7ebc913576015ff395dcd495d95',\n",
       "    'author': {'email': '15ba641c8248aa8478f5c94808a2b37cac29d592@gmail.com',\n",
       "     'name': 'Daniel Farrell'},\n",
       "    'message': 'Fixed which output at each new shell creation',\n",
       "    'distinct': True,\n",
       "    'url': 'https://api.github.com/repos/Tonvin/oh-my-zsh/commits/3976b93f3931a7ebc913576015ff395dcd495d95'},\n",
       "   {'sha': 'b2ce306c4f49ebb1ef2bde5b86d553ce6ea674aa',\n",
       "    'author': {'email': '15ba641c8248aa8478f5c94808a2b37cac29d592@gmail.com',\n",
       "     'name': 'Daniel Farrell'},\n",
       "    'message': 'Simplified gallois RPS1 setup using some helpful scripts',\n",
       "    'distinct': True,\n",
       "    'url': 'https://api.github.com/repos/Tonvin/oh-my-zsh/commits/b2ce306c4f49ebb1ef2bde5b86d553ce6ea674aa'},\n",
       "   {'sha': 'b2ea7d3ec12152ab4d864c27c33d8b9396c68858',\n",
       "    'author': {'email': 'c8cd21269bed0b1e5226ce25d7435eabcbcca136@ya.ru',\n",
       "     'name': 'Stanislav Schultz'},\n",
       "    'message': 'Add Ruby 2.1.1 support to rvm plugin',\n",
       "    'distinct': True,\n",
       "    'url': 'https://api.github.com/repos/Tonvin/oh-my-zsh/commits/b2ea7d3ec12152ab4d864c27c33d8b9396c68858'},\n",
       "   {'sha': '73bf940c34fe359c27031a1144237ccaad7d2b9b',\n",
       "    'author': {'email': '092e29cd37ae31b9f9560115d5e4f6fc4b538e90@users.noreply.github.com',\n",
       "     'name': 'Nicolas Brousse'},\n",
       "    'message': 'Update brew.plugin.zsh',\n",
       "    'distinct': True,\n",
       "    'url': 'https://api.github.com/repos/Tonvin/oh-my-zsh/commits/73bf940c34fe359c27031a1144237ccaad7d2b9b'},\n",
       "   {'sha': '3c485db8c73bfebf379f3e9382eb8f300b608bd8',\n",
       "    'author': {'email': 'cbb7353e6d953ef360baf960c122346276c6e320@walther-online.ch',\n",
       "     'name': 'r3dDoX'},\n",
       "    'message': 'replaced hardcoded origin/{branch-name} with @{upstream} which gets the upstream branch since git 1.7.0',\n",
       "    'distinct': True,\n",
       "    'url': 'https://api.github.com/repos/Tonvin/oh-my-zsh/commits/3c485db8c73bfebf379f3e9382eb8f300b608bd8'},\n",
       "   {'sha': '59c8fcc712556a4c0b612898073e212877c21d60',\n",
       "    'author': {'email': 'cbb7353e6d953ef360baf960c122346276c6e320@walther-online.ch',\n",
       "     'name': 'r3dDoX'},\n",
       "    'message': 'added new function to get number of commits ahead of remote',\n",
       "    'distinct': True,\n",
       "    'url': 'https://api.github.com/repos/Tonvin/oh-my-zsh/commits/59c8fcc712556a4c0b612898073e212877c21d60'},\n",
       "   {'sha': '514693125b12d4b4cd099dcb09174f7bfd9a5b0e',\n",
       "    'author': {'email': '1cd56a53740f8484de72ec3f48b0077a503c1116@users.noreply.github.com',\n",
       "     'name': 'r3dDoX'},\n",
       "    'message': 'added prefix/suffix variable for customizability',\n",
       "    'distinct': True,\n",
       "    'url': 'https://api.github.com/repos/Tonvin/oh-my-zsh/commits/514693125b12d4b4cd099dcb09174f7bfd9a5b0e'},\n",
       "   {'sha': 'b7f51bbbdd9f0d9ff9ef59b559e91b916d53cdf1',\n",
       "    'author': {'email': '81e1191ab7dc196fb9496172ecb9eca90e942252@gmail.com',\n",
       "     'name': 'Josh Datko'},\n",
       "    'message': 'Adds itunes vol command.\\n\\nAdds itunes vol, which takes an argument from 0 to 100 to set the\\nvolume from the shell.',\n",
       "    'distinct': True,\n",
       "    'url': 'https://api.github.com/repos/Tonvin/oh-my-zsh/commits/b7f51bbbdd9f0d9ff9ef59b559e91b916d53cdf1'},\n",
       "   {'sha': 'bce74975d055529cbd186782e2fd99e6da840460',\n",
       "    'author': {'email': '86a8c2da8527a1c6978bdca6d7986fe14ae147fe@openminds.be',\n",
       "     'name': 'Frank Louwers'},\n",
       "    'message': 'drop the foreach, make it even shorter. thanks Marc Cornellà!',\n",
       "    'distinct': True,\n",
       "    'url': 'https://api.github.com/repos/Tonvin/oh-my-zsh/commits/bce74975d055529cbd186782e2fd99e6da840460'},\n",
       "   {'sha': '9c11202fde61bf3db6755f4083c320d710fe3bd5',\n",
       "    'author': {'email': '74cb737ea0c60952e9dfa2f3ae3c9bdaf2fbf5b8@gmail.com',\n",
       "     'name': 'frantzmiccoli'},\n",
       "    'message': 'fix `-nt` usage',\n",
       "    'distinct': True,\n",
       "    'url': 'https://api.github.com/repos/Tonvin/oh-my-zsh/commits/9c11202fde61bf3db6755f4083c320d710fe3bd5'},\n",
       "   {'sha': '45b61297113c7c2d2cb0eeb80537c8fa944865df',\n",
       "    'author': {'email': '454dedb4ae30b0d82977a9020d5adbfa85c32a1a@gmail.com',\n",
       "     'name': 'willmendesneto'},\n",
       "    'message': 'Add new plugin: \"frontend-search\"',\n",
       "    'distinct': True,\n",
       "    'url': 'https://api.github.com/repos/Tonvin/oh-my-zsh/commits/45b61297113c7c2d2cb0eeb80537c8fa944865df'},\n",
       "   {'sha': '480ca2205846426c04fa46fb37e1f7246bba2b88',\n",
       "    'author': {'email': '6d82ba7aad82f88f215a2f0adf540efc9ac3974f@rausch.io',\n",
       "     'name': 'Helge Rausch'},\n",
       "    'message': 'Make bundler plugin run binstubbed cmd if existing',\n",
       "    'distinct': True,\n",
       "    'url': 'https://api.github.com/repos/Tonvin/oh-my-zsh/commits/480ca2205846426c04fa46fb37e1f7246bba2b88'},\n",
       "   {'sha': '14ebcc83bec267859e2948f36f48cc69f5150def',\n",
       "    'author': {'email': '73675debcd8a436be48ec22211dcf44fe0df0a64@sommerlaune.com',\n",
       "     'name': 'Ben Zörb'},\n",
       "    'message': '#2893 generalized symfony2 console directory',\n",
       "    'distinct': True,\n",
       "    'url': 'https://api.github.com/repos/Tonvin/oh-my-zsh/commits/14ebcc83bec267859e2948f36f48cc69f5150def'}]},)"
      ]
     },
     "execution_count": 430,
     "metadata": {},
     "output_type": "execute_result"
    }
   ],
   "source": [
    "c.filter(lambda x: x['size']==283).take(1)"
   ]
  },
  {
   "cell_type": "code",
   "execution_count": 211,
   "metadata": {},
   "outputs": [
    {
     "data": {
      "text/html": [
       "<div><strong>Dask DataFrame Structure:</strong></div>\n",
       "<div>\n",
       "<style scoped>\n",
       "    .dataframe tbody tr th:only-of-type {\n",
       "        vertical-align: middle;\n",
       "    }\n",
       "\n",
       "    .dataframe tbody tr th {\n",
       "        vertical-align: top;\n",
       "    }\n",
       "\n",
       "    .dataframe thead th {\n",
       "        text-align: right;\n",
       "    }\n",
       "</style>\n",
       "<table border=\"1\" class=\"dataframe\">\n",
       "  <thead>\n",
       "    <tr style=\"text-align: right;\">\n",
       "      <th></th>\n",
       "      <th>ref</th>\n",
       "      <th>ref_type</th>\n",
       "      <th>master_branch</th>\n",
       "      <th>description</th>\n",
       "      <th>pusher_type</th>\n",
       "    </tr>\n",
       "    <tr>\n",
       "      <th>npartitions=1</th>\n",
       "      <th></th>\n",
       "      <th></th>\n",
       "      <th></th>\n",
       "      <th></th>\n",
       "      <th></th>\n",
       "    </tr>\n",
       "  </thead>\n",
       "  <tbody>\n",
       "    <tr>\n",
       "      <th></th>\n",
       "      <td>object</td>\n",
       "      <td>object</td>\n",
       "      <td>object</td>\n",
       "      <td>object</td>\n",
       "      <td>object</td>\n",
       "    </tr>\n",
       "    <tr>\n",
       "      <th></th>\n",
       "      <td>...</td>\n",
       "      <td>...</td>\n",
       "      <td>...</td>\n",
       "      <td>...</td>\n",
       "      <td>...</td>\n",
       "    </tr>\n",
       "  </tbody>\n",
       "</table>\n",
       "</div>\n",
       "<div>Dask Name: to_dataframe, 2 tasks</div>"
      ],
      "text/plain": [
       "Dask DataFrame Structure:\n",
       "                  ref ref_type master_branch description pusher_type\n",
       "npartitions=1                                                       \n",
       "               object   object        object      object      object\n",
       "                  ...      ...           ...         ...         ...\n",
       "Dask Name: to_dataframe, 2 tasks"
      ]
     },
     "execution_count": 211,
     "metadata": {},
     "output_type": "execute_result"
    }
   ],
   "source": []
  }
 ],
 "metadata": {
  "kernelspec": {
   "display_name": "Python 3",
   "language": "python",
   "name": "python3"
  },
  "language_info": {
   "codemirror_mode": {
    "name": "ipython",
    "version": 3
   },
   "file_extension": ".py",
   "mimetype": "text/x-python",
   "name": "python",
   "nbconvert_exporter": "python",
   "pygments_lexer": "ipython3",
   "version": "3.8.5"
  }
 },
 "nbformat": 4,
 "nbformat_minor": 4
}
